{
 "cells": [
  {
   "cell_type": "code",
   "execution_count": 2,
   "metadata": {},
   "outputs": [],
   "source": [
    "from math import sqrt"
   ]
  },
  {
   "cell_type": "code",
   "execution_count": 3,
   "metadata": {},
   "outputs": [],
   "source": [
    "a = 1.5          ## м \n",
    "b = 3            ## м \n",
    "T1 = 350         ## К\n",
    "P1 = 2 * 10**4   ## Па\n",
    "T4 = 300         ## К\n",
    "P4 = 5*10**5     ## Па\n",
    "muHe = 0.004     ## кг/моль\n",
    "muCH4 = 0.016    ## кг/моль\n",
    "muAr = 0.04      ## кг/моль\n",
    "rHe = 1\n",
    "rCH4 = 0.05\n",
    "rAr = 0.95\n",
    "mu1 = muCH4 * rCH4 + muAr * rAr\n",
    "mu4 = muHe * rHe\n",
    "R1 = 8.314 / mu1\n",
    "R4 = 8.314 / mu4\n",
    "iHe = 3\n",
    "iCH4 = 6\n",
    "iAr = 3\n",
    "CpHe = 8.314 * (iHe + 2) / 2\n",
    "CvHe = 8.314 * iHe / 2\n",
    "Cp4 = CpHe / mu4\n",
    "Cv4 = CvHe / mu4\n",
    "k4 = Cp4 / Cv4\n",
    "CpCH4 = 8.314 * (iCH4 + 2) / 2\n",
    "CvCH4 = 8.314 * iCH4 / 2\n",
    "CpAr = 8.314 * (iAr + 2) / 2\n",
    "CvAr = 8.314 * iAr / 2\n",
    "Cp1 = (CpCH4 * rCH4 + CpAr * rAr) / mu1\n",
    "Cv1 = (CvCH4 * rCH4 + CvAr * rAr) / mu1\n",
    "k1 = Cp1 / Cv1\n",
    "a1 = sqrt(k1 * R1 * T1)\n",
    "a4 = sqrt(k4 * R4 * T4)\n",
    "f = lambda M1: P4 / P1 - (2 * k1 * M1**2 - k1 + 1) / (k1 + 1) * \\\n",
    "(1 -a1 * (k4 - 1) * (M1 - 1/M1) / ((k1 + 1) * a4))**(-2 * k4 / (k4 - 1))\n",
    "x0 = 1\n",
    "M1 = f(x0)\n",
    "while M1 > 1e-5:\n",
    "    x0 += 1e-3\n",
    "    M1 = f(x0)\n",
    "\n",
    "M1 = x0\n",
    "WS = a1 * M1    ## м/с\n",
    "P2 = P1 * (2 * k1 * M1**2 - k1 + 1) / (k1 + 1)\n",
    "T2 = T1 * (k1 * M1**2 - (k1 - 1) / 2) * ((k1 - 1) / 2 * M1**2 + 1) / \\\n",
    "(0.5 * M1 * (k1 + 1))**2\n",
    "P5 = P2 * ((3 * k1 - 1) * M1**2 - 2 * (k1 - 1)) / ((k1 - 1) * M1**2 + 2)\n",
    "T5 = T1 * (2 * (k1 - 1) * M1**2 + (3 - k1)) * ((3 * k1 - 1) * M1**2 - 2 * (k1 - 1)) / \\\n",
    "(M1 * (k1 + 1))**2\n",
    "WR = WS * ((2 + 2 * P1 / (P2 * (k1 - 1))) / ((k1 + 1) / (k1 - 1) + P1 / P2))\n",
    "v2 = 2 * a1 * (M1 - 1 / M1) / (k1 + 1)\n",
    "t = b / (WR + v2)"
   ]
  },
  {
   "cell_type": "code",
   "execution_count": 4,
   "metadata": {},
   "outputs": [
    {
     "name": "stdout",
     "output_type": "stream",
     "text": [
      "mu1= 0.0388 mu4= 0.004\n",
      "R1= 214.2783505154639 R4= 2078.5\n",
      "a1= 350.16401000969677 a4= 1019.4361186459896\n",
      "M= 2.6369999999998197\n"
     ]
    }
   ],
   "source": [
    "print('mu1=', mu1,'mu4=', mu4)\n",
    "print('R1=', R1, 'R4=', R4)\n",
    "print('a1=', a1, 'a4=', a4)\n",
    "print('M=', x0)"
   ]
  },
  {
   "cell_type": "code",
   "execution_count": 5,
   "metadata": {},
   "outputs": [
    {
     "name": "stdout",
     "output_type": "stream",
     "text": [
      "Скоросто ПУВ = 923.3824943955073\n",
      "Давление за ПУВ = 167768.2426505788\n",
      "Температура за ПУВ = 1027.9283791211901\n",
      "Давление за ОУВ = 676894.571224476\n",
      "Температура за ОУВ = 1913.045211353322\n",
      "Скоросто контактной пов-ти = 600.0892057230407\n",
      "Скорость ОУВ = 513.7977984258127\n",
      "Рабочее время = 0.002693271390029699\n"
     ]
    }
   ],
   "source": [
    "print('Скоросто ПУВ =', WS)\n",
    "print('Давление за ПУВ =', P2)\n",
    "print('Температура за ПУВ =', T2)\n",
    "print('Давление за ОУВ =', P5)\n",
    "print('Температура за ОУВ =', T5)\n",
    "print('Скоросто контактной пов-ти =', v2)\n",
    "print('Скорость ОУВ =', WR)\n",
    "print('Рабочее время =', t)"
   ]
  }
 ],
 "metadata": {
  "kernelspec": {
   "display_name": "Python 3",
   "language": "python",
   "name": "python3"
  },
  "language_info": {
   "codemirror_mode": {
    "name": "ipython",
    "version": 3
   },
   "file_extension": ".py",
   "mimetype": "text/x-python",
   "name": "python",
   "nbconvert_exporter": "python",
   "pygments_lexer": "ipython3",
   "version": "3.7.3"
  }
 },
 "nbformat": 4,
 "nbformat_minor": 2
}
