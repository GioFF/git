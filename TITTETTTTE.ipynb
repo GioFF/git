{
 "cells": [
  {
   "cell_type": "code",
   "execution_count": 1,
   "metadata": {},
   "outputs": [
    {
     "name": "stdout",
     "output_type": "stream",
     "text": [
      "T1 =  350 К\n",
      "P1 =  25000.0 Па\n",
      "T4 =  300 К\n"
     ]
    }
   ],
   "source": [
    "T1 = 350\n",
    "P1 = 2.5*10**4\n",
    "T4 = 300\n",
    "print ('T1 = ', T1 ,'К')\n",
    "print ('P1 = ', P1 ,'Па')\n",
    "print ('T4 = ', T4 ,'К')"
   ]
  },
  {
   "cell_type": "markdown",
   "metadata": {},
   "source": [
    "Расстояние между датчиками и время прохождения волны через датчики"
   ]
  },
  {
   "cell_type": "code",
   "execution_count": 2,
   "metadata": {},
   "outputs": [
    {
     "name": "stdout",
     "output_type": "stream",
     "text": [
      "l =  0.09 м\n",
      "t1 =  0.00010999999999999999 с\n",
      "t2 =  0.00021999999999999998 с\n"
     ]
    }
   ],
   "source": [
    "l = 90*10**(-3)\n",
    "t1 = 110*10**(-6)\n",
    "t2 = 220*10**(-6)\n",
    "print ('l = ', l ,'м')\n",
    "print ('t1 = ', t1 ,'с')\n",
    "print ('t2 = ', t2 ,'с')"
   ]
  },
  {
   "cell_type": "markdown",
   "metadata": {},
   "source": [
    "Молярные массы и массовые доли для газа в КНД"
   ]
  },
  {
   "cell_type": "markdown",
   "metadata": {},
   "source": [
    "#### 5%C2H2 + 95%N2"
   ]
  },
  {
   "cell_type": "code",
   "execution_count": 3,
   "metadata": {},
   "outputs": [
    {
     "name": "stdout",
     "output_type": "stream",
     "text": [
      "mu_C2H2 =  0.026 кг/моль\n",
      "mu_N2 =  0.028 кг/моль\n",
      "r_C2H2 =  0.05\n",
      "r_N2=  0.95\n"
     ]
    }
   ],
   "source": [
    "mu_C2H2 = 0.026\n",
    "mu_N2 = 0.028\n",
    "r_C2H2 = 0.05\n",
    "r_N2 = 0.95\n",
    "print ('mu_C2H2 = ', mu_C2H2 ,'кг/моль')\n",
    "print ('mu_N2 = ', mu_N2 ,'кг/моль')\n",
    "print ('r_C2H2 = ', r_C2H2 )\n",
    "print ('r_N2= ',r_N2 )"
   ]
  },
  {
   "cell_type": "markdown",
   "metadata": {},
   "source": [
    "Молярные массы и массовые доли для газа в КВД"
   ]
  },
  {
   "cell_type": "markdown",
   "metadata": {},
   "source": [
    "#### 100%He"
   ]
  },
  {
   "cell_type": "code",
   "execution_count": 4,
   "metadata": {},
   "outputs": [
    {
     "name": "stdout",
     "output_type": "stream",
     "text": [
      "mu_He =  0.004 кг/моль\n",
      "r_He =  1\n"
     ]
    }
   ],
   "source": [
    "mu_He = 0.004\n",
    "r_He = 1\n",
    "print ('mu_He = ', mu_He ,'кг/моль')\n",
    "print ('r_He = ', r_He )"
   ]
  },
  {
   "cell_type": "markdown",
   "metadata": {},
   "source": [
    "### Решение"
   ]
  },
  {
   "cell_type": "markdown",
   "metadata": {},
   "source": [
    "Найдём газовую постоянную для КНД через теплоёмокости"
   ]
  },
  {
   "cell_type": "markdown",
   "metadata": {},
   "source": [
    "$C_p=\\frac{(i+2}{2}R_0 \\quad C_v=\\frac{i}{2}R_0 \\quad k=\\frac{C_p}{C_v}$"
   ]
  },
  {
   "cell_type": "markdown",
   "metadata": {},
   "source": [
    "У С2H2 - 6 степеней свободы ,а у N2 - 5"
   ]
  },
  {
   "cell_type": "code",
   "execution_count": 5,
   "metadata": {},
   "outputs": [
    {
     "name": "stdout",
     "output_type": "stream",
     "text": [
      "k1 = 1.3960396039603962\n",
      "R1 = 297.99283154121866 Дж/(кг*К)\n"
     ]
    }
   ],
   "source": [
    "iC2H2 = 6\n",
    "iN2 = 5\n",
    "cpC2H2 = ((iC2H2 + 2)/2)*8.314\n",
    "cpN2 = ((iN2 + 2)/2)*8.314\n",
    "cvC2H2 = (iC2H2/2)*8.314\n",
    "cvN2 = (iN2/2)*8.314\n",
    "mu1 = mu_C2H2*r_C2H2 + mu_N2*r_N2\n",
    "cp1 = (cpC2H2*r_C2H2 + cpN2*r_N2)/mu1\n",
    "cv1 = (cvC2H2*r_C2H2 + cvN2*r_N2)/mu1\n",
    "k1 = cp1 / cv1\n",
    "R1 = 8.314 / mu1\n",
    "print ('k1 =', k1)\n",
    "print ('R1 =', R1 ,'Дж/(кг*К)')"
   ]
  },
  {
   "cell_type": "markdown",
   "metadata": {},
   "source": [
    "Найдём скорость звука, скорость и Мах в 1"
   ]
  },
  {
   "cell_type": "markdown",
   "metadata": {},
   "source": [
    "$a=\\sqrt{kRT} \\quad M=\\frac{v}{a}$"
   ]
  },
  {
   "cell_type": "code",
   "execution_count": 6,
   "metadata": {},
   "outputs": [
    {
     "name": "stdout",
     "output_type": "stream",
     "text": [
      "a1 = 381.58017255190816 м/c\n",
      "v1 = 818.1818181818182 м/c\n",
      "M1 = 2.1441937423268946 м/c\n"
     ]
    }
   ],
   "source": [
    "from math import sqrt\n",
    "a1 = sqrt(k1*R1*T1)\n",
    "Ws = l/(t2-t1)\n",
    "M1=Ws/a1\n",
    "print ('a1 =',a1, 'м/c')\n",
    "print ('v1 =', Ws , 'м/c')\n",
    "print ('M1 =', M1, 'м/c')"
   ]
  },
  {
   "cell_type": "markdown",
   "metadata": {},
   "source": [
    "Определим а2,а также Р2 и Т2 по формулам"
   ]
  },
  {
   "cell_type": "markdown",
   "metadata": {},
   "source": [
    "$P_2=P_1\\frac{(2k_1M^2_1-k_1+1)}{k_1+1}, \\quad T_2=T_1\\frac{(k_1M^2_1-\\frac{k_1-1}{2})(\\frac{k_1-1}{2}M^2_1+1)}{(\\frac{k_1+1}{2})^2M^2_1}$"
   ]
  },
  {
   "cell_type": "code",
   "execution_count": 7,
   "metadata": {},
   "outputs": [
    {
     "name": "stdout",
     "output_type": "stream",
     "text": [
      "P2 = 129805.14864739 Па\n",
      "T2 = 630.3101866546708 K\n",
      "a2 =  512.0695375034664 м/c\n"
     ]
    }
   ],
   "source": [
    "P2 = P1*(2*k1*(M1**2) - k1 + 1)/(k1 + 1)\n",
    "T2 = T1*(k1*M1**2 - (k1 - 1)/2)*((k1 - 1)/2*M1**2 + 1)/(0.5*M1*(k1 + 1))**2\n",
    "a2 = sqrt(k1*R1*T2)\n",
    "print ('P2 =',P2,'Па')\n",
    "print ('T2 =',T2,'K')\n",
    "print ('a2 = ',a2, 'м/c')"
   ]
  },
  {
   "cell_type": "markdown",
   "metadata": {},
   "source": [
    "Определим а5,а также P5 и T5 по формулам"
   ]
  },
  {
   "cell_type": "markdown",
   "metadata": {},
   "source": [
    "$P_5=P_2\\frac{\\frac{k_1+1}{k_1-1}+2-\\frac{P_1}{P_2}}{1+\\frac{k_1+1}{k_1-1}\\frac{P_1}{P_2}},\\quad T_5=T_2\\frac{P_5}{P_2}\\frac{\\frac{k_1+1}{k_1-1}+\\frac{P_5}{P_2}}{1+\\frac{k_1+1}{k_1-1}\\frac{P_5}{P_2}}$"
   ]
  },
  {
   "cell_type": "code",
   "execution_count": 8,
   "metadata": {},
   "outputs": [
    {
     "name": "stdout",
     "output_type": "stream",
     "text": [
      "P5 = 471054.7153279534 Па\n",
      "T5 = 964.456893003829 K\n",
      "a5 =  633.4220661529577 м/c\n"
     ]
    }
   ],
   "source": [
    "P5 = P2*(((k1+1)/(k1-1)+2-P1/P2)/(1+(P1/P2)*((k1+1)/(k1-1))))\n",
    "T5 = T2*(((k1+1)/(k1-1)+P5/P2)/(1+(P5/P2)*((k1+1)/(k1-1))))*(P5/P2)\n",
    "a5 = sqrt(k1*R1*T5)\n",
    "print ('P5 =',P5,'Па')\n",
    "print ('T5 =',T5,'K')\n",
    "print ('a5 = ',a5, 'м/c')"
   ]
  },
  {
   "cell_type": "markdown",
   "metadata": {},
   "source": [
    "Определим зкорость звука и показатель адиабаты в КВД (аналогично КНД) для нахождения P4"
   ]
  },
  {
   "cell_type": "code",
   "execution_count": 9,
   "metadata": {},
   "outputs": [
    {
     "name": "stdout",
     "output_type": "stream",
     "text": [
      "k4 =  1.3960396039603962\n",
      "R4 =  297.99283154121866 Дж/(кг*К)\n"
     ]
    }
   ],
   "source": [
    "iHe = 3\n",
    "cpHe = ((iHe + 2)/2)*8.314\n",
    "cvHe = (iHe/2)*8.314\n",
    "mu4 = mu_He*r_He\n",
    "cp4 = (cpHe*r_He)/mu1\n",
    "cv4 = (cvHe*r_He)/mu1\n",
    "k4 = cp4/cv4\n",
    "R4 = 8.314/mu1\n",
    "print ('k4 = ', k1)\n",
    "print ('R4 = ', R1 ,'Дж/(кг*К)')"
   ]
  },
  {
   "cell_type": "markdown",
   "metadata": {},
   "source": [
    "Найдём скорость звука в КВД"
   ]
  },
  {
   "cell_type": "markdown",
   "metadata": {},
   "source": [
    "$a=\\sqrt{kRT}$"
   ]
  },
  {
   "cell_type": "code",
   "execution_count": 10,
   "metadata": {},
   "outputs": [
    {
     "name": "stdout",
     "output_type": "stream",
     "text": [
      "a4 =  386.0005385625897 м/c\n"
     ]
    }
   ],
   "source": [
    "a4 = sqrt(k4*R4*T4)\n",
    "print ('a4 = ',a4, 'м/c')"
   ]
  },
  {
   "cell_type": "markdown",
   "metadata": {},
   "source": [
    "Найдём P4 по формуле"
   ]
  },
  {
   "cell_type": "markdown",
   "metadata": {},
   "source": [
    "$P_4=P_1\\frac{2k_1M^2_1-(k_1-1)}{k_1+1}(1-\\frac{k_4-1}{k_1+1}\\frac{a_1}{a_4}(M_1-\\frac{1}{M_1}))^{-\\frac{2k_4}{k_4-1}}$"
   ]
  },
  {
   "cell_type": "code",
   "execution_count": 11,
   "metadata": {},
   "outputs": [
    {
     "name": "stdout",
     "output_type": "stream",
     "text": [
      "P4 = 2866173.203923942 Па\n"
     ]
    }
   ],
   "source": [
    "P4 = P1 * (2*k1*M1**2 - (k1-1))/(k1+1) * (1-((k4-1)/(k1+1))*a1/a4 * (M1 - 1/M1))**(-2*k4/(k4-1))\n",
    "print ('P4 =',P4,'Па')"
   ]
  },
  {
   "cell_type": "markdown",
   "metadata": {},
   "source": [
    "Рассчитаем неизвестные параметры с помощью программы EQUILIB"
   ]
  },
  {
   "cell_type": "markdown",
   "metadata": {},
   "source": [
    "Сравним полученные из данной программы значения со значениями получеными в ходе расчета (результат, полученный из EQUILIB представлен в\n",
    "таблице)"
   ]
  },
  {
   "cell_type": "code",
   "execution_count": 12,
   "metadata": {},
   "outputs": [
    {
     "data": {
      "text/html": [
       "<div>\n",
       "<style scoped>\n",
       "    .dataframe tbody tr th:only-of-type {\n",
       "        vertical-align: middle;\n",
       "    }\n",
       "\n",
       "    .dataframe tbody tr th {\n",
       "        vertical-align: top;\n",
       "    }\n",
       "\n",
       "    .dataframe thead th {\n",
       "        text-align: right;\n",
       "    }\n",
       "</style>\n",
       "<table border=\"1\" class=\"dataframe\">\n",
       "  <thead>\n",
       "    <tr style=\"text-align: right;\">\n",
       "      <th></th>\n",
       "      <th>Полученные значения</th>\n",
       "      <th>Значения из EQUILIB</th>\n",
       "    </tr>\n",
       "  </thead>\n",
       "  <tbody>\n",
       "    <tr>\n",
       "      <th>Температура за ПУВ, К</th>\n",
       "      <td>630.310187</td>\n",
       "      <td>576.000</td>\n",
       "    </tr>\n",
       "    <tr>\n",
       "      <th>Давление за ПУВ, МПа</th>\n",
       "      <td>1.298051</td>\n",
       "      <td>1.538</td>\n",
       "    </tr>\n",
       "    <tr>\n",
       "      <th>Температура за ОУВ, К</th>\n",
       "      <td>964.456893</td>\n",
       "      <td>882.000</td>\n",
       "    </tr>\n",
       "    <tr>\n",
       "      <th>Давление за ОУВ, МПа</th>\n",
       "      <td>4.710547</td>\n",
       "      <td>6.138</td>\n",
       "    </tr>\n",
       "  </tbody>\n",
       "</table>\n",
       "</div>"
      ],
      "text/plain": [
       "                       Полученные значения  Значения из EQUILIB\n",
       "Температура за ПУВ, К           630.310187              576.000\n",
       "Давление за ПУВ, МПа              1.298051                1.538\n",
       "Температура за ОУВ, К           964.456893              882.000\n",
       "Давление за ОУВ, МПа              4.710547                6.138"
      ]
     },
     "execution_count": 12,
     "metadata": {},
     "output_type": "execute_result"
    }
   ],
   "source": [
    "import pandas as pd\n",
    "df = pd.DataFrame()\n",
    "df['Полученные значения'] = [T2, P2/1e5, T5, P5/1e5]\n",
    "df['Значения из EQUILIB'] = [576, 1.538, 882, 6.138]\n",
    "df.index = ['Температура за ПУВ, К','Давление за ПУВ, МПа', \n",
    "            'Температура за ОУВ, К','Давление за ОУВ, МПа']\n",
    "df"
   ]
  },
  {
   "cell_type": "markdown",
   "metadata": {},
   "source": [
    "Разница между значениями, полученными в расчетах, и значениями, полученных с помощью программы EQUILIB, обуславливается тем, что при\n",
    "расчете мы не учитываем изменение параметров газа при разных $Т (С_p C_v k)$."
   ]
  },
  {
   "cell_type": "markdown",
   "metadata": {},
   "source": [
    "Для построения x-t диаграммы необходимо также рассчитать следующие значения"
   ]
  },
  {
   "cell_type": "markdown",
   "metadata": {},
   "source": [
    "$W_r=W_s\\frac{2+\\frac{2}{k_1-1}\\frac{P_1}{P_2}}{\\frac{k_1+1}{k_1-1}+\\frac{P_1}{P_2}},\\quad V_2=2a_1\\frac{M_1-\\frac{1}{M_1}}{k_1+1},\\quad a_3=\\frac{\\frac{2}{k_4-1}a_4-V_2}{\\frac{2}{k_4-1}},\\quad v_3=v_2-a_3$"
   ]
  },
  {
   "cell_type": "code",
   "execution_count": 13,
   "metadata": {},
   "outputs": [
    {
     "name": "stdout",
     "output_type": "stream",
     "text": [
      "Wr =  389.6034058484495 м/c\n",
      "v2 =  534.4002425391387 м/c\n",
      "a3 =  207.8671243828769 м/c\n",
      "w3 =  326.5331181562618 м/c\n"
     ]
    }
   ],
   "source": [
    "a = 0.5\n",
    "b = 5.0\n",
    "Wr = Ws*((2 + 2*P1/(P2*(k1 - 1)))/((k1 + 1)/(k1 - 1) + P1/P2))\n",
    "v2 = 2*a1*(M1 - 1/M1)/(k1 + 1)\n",
    "a3 = ((2/(k4-1))*a4-v2)*(k4-1)/2\n",
    "w3 = v2-a3\n",
    "print ('Wr = ',Wr, 'м/c')\n",
    "print ('v2 = ',v2, 'м/c')\n",
    "print ('a3 = ',a3, 'м/c')\n",
    "print ('w3 = ',w3, 'м/c')"
   ]
  }
 ],
 "metadata": {
  "kernelspec": {
   "display_name": "Python 3",
   "language": "python",
   "name": "python3"
  },
  "language_info": {
   "codemirror_mode": {
    "name": "ipython",
    "version": 3
   },
   "file_extension": ".py",
   "mimetype": "text/x-python",
   "name": "python",
   "nbconvert_exporter": "python",
   "pygments_lexer": "ipython3",
   "version": "3.7.3"
  }
 },
 "nbformat": 4,
 "nbformat_minor": 2
}
